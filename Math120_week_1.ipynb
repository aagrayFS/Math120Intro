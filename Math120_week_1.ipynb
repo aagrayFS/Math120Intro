{
  "nbformat": 4,
  "nbformat_minor": 0,
  "metadata": {
    "colab": {
      "provenance": [],
      "authorship_tag": "ABX9TyOVwD/WNyW1KGdxNHQaqXIt",
      "include_colab_link": true
    },
    "kernelspec": {
      "name": "python3",
      "display_name": "Python 3"
    },
    "language_info": {
      "name": "python"
    }
  },
  "cells": [
    {
      "cell_type": "markdown",
      "metadata": {
        "id": "view-in-github",
        "colab_type": "text"
      },
      "source": [
        "<a href=\"https://colab.research.google.com/github/aagrayFS/Math120Intro/blob/main/Math120_week_1.ipynb\" target=\"_parent\"><img src=\"https://colab.research.google.com/assets/colab-badge.svg\" alt=\"Open In Colab\"/></a>"
      ]
    },
    {
      "cell_type": "code",
      "execution_count": null,
      "metadata": {
        "id": "McOKHyVOfTwL"
      },
      "outputs": [],
      "source": [
        "# Week 1 Notebook\n"
      ]
    },
    {
      "cell_type": "markdown",
      "source": [
        "# Week 1 Notebook\n"
      ],
      "metadata": {
        "id": "xea6lKBLpRsN"
      }
    },
    {
      "cell_type": "markdown",
      "source": [
        "##Intro Programming\n"
      ],
      "metadata": {
        "id": "DA8Yd9u-pV_v"
      }
    },
    {
      "cell_type": "markdown",
      "source": [
        "This is a markdown cell\n",
        "**Yes**\n",
        "*No*\n",
        "\n",
        "\n",
        "> Add blockquote no\n",
        "\n",
        "\n"
      ],
      "metadata": {
        "id": "pBnKOBjRpfwv"
      }
    },
    {
      "cell_type": "markdown",
      "source": [
        "###Python as a calculator"
      ],
      "metadata": {
        "id": "RkUV4vxPp7KK"
      }
    },
    {
      "cell_type": "markdown",
      "source": [],
      "metadata": {
        "id": "8DyteamVp9Rj"
      }
    },
    {
      "cell_type": "code",
      "source": [
        "# arithmatic examples\n",
        "5 ** 2 # ** is exponentiation\n",
        "7 % 2 #Modular division(the remainder after dividing the second number)\n",
        "# abs() round() sum()\n",
        "# Functions function_name()\n",
        "# help(round) command\n"
      ],
      "metadata": {
        "colab": {
          "base_uri": "https://localhost:8080/"
        },
        "id": "ZzhdLrfHq81S",
        "outputId": "0751cb4c-956b-4a26-cab5-bd465db4cfae"
      },
      "execution_count": null,
      "outputs": [
        {
          "output_type": "execute_result",
          "data": {
            "text/plain": [
              "1"
            ]
          },
          "metadata": {},
          "execution_count": 5
        }
      ]
    },
    {
      "cell_type": "code",
      "source": [
        "# float().  convery to float"
      ],
      "metadata": {
        "id": "DBrCf1J3QOYF"
      },
      "execution_count": null,
      "outputs": []
    },
    {
      "cell_type": "code",
      "source": [
        "98 * 7"
      ],
      "metadata": {
        "colab": {
          "base_uri": "https://localhost:8080/"
        },
        "id": "ZRwndKioNvh7",
        "outputId": "f503a578-dc73-4eab-d4b1-b2fd2337a6b4"
      },
      "execution_count": null,
      "outputs": [
        {
          "output_type": "execute_result",
          "data": {
            "text/plain": [
              "686"
            ]
          },
          "metadata": {},
          "execution_count": 1
        }
      ]
    },
    {
      "cell_type": "code",
      "source": [
        "x = 10\n",
        "#importing library/modules:\n",
        "import math\n",
        "# importing math module gives access to variables and functions: math.pi\n",
        "math.(something)\n",
        "math."
      ],
      "metadata": {
        "id": "VxNhA7zFQdri"
      },
      "execution_count": null,
      "outputs": []
    },
    {
      "cell_type": "code",
      "source": [
        "# scientific/math modules\n",
        "import numpy as np #numerical python\n",
        "import sympy as sym # symbolic python\n",
        "\n",
        "y = symbols('y')"
      ],
      "metadata": {
        "id": "72Lvblz1Wz1k"
      },
      "execution_count": null,
      "outputs": []
    },
    {
      "cell_type": "code",
      "source": [
        "z = symbols('z')"
      ],
      "metadata": {
        "id": "mSfURl8uXxaq"
      },
      "execution_count": null,
      "outputs": []
    },
    {
      "cell_type": "code",
      "source": [
        "y + 2*z"
      ],
      "metadata": {
        "colab": {
          "base_uri": "https://localhost:8080/",
          "height": 108
        },
        "id": "csKoIYizX87W",
        "outputId": "025148de-fbd7-4a84-9c2a-6e3611b88167"
      },
      "execution_count": null,
      "outputs": [
        {
          "output_type": "error",
          "ename": "SyntaxError",
          "evalue": "cannot assign to expression (ipython-input-2718428688.py, line 1)",
          "traceback": [
            "\u001b[0;36m  File \u001b[0;32m\"/tmp/ipython-input-2718428688.py\"\u001b[0;36m, line \u001b[0;32m1\u001b[0m\n\u001b[0;31m    y + 2*z =\u001b[0m\n\u001b[0m    ^\u001b[0m\n\u001b[0;31mSyntaxError\u001b[0m\u001b[0;31m:\u001b[0m cannot assign to expression\n"
          ]
        }
      ]
    },
    {
      "cell_type": "code",
      "source": [
        "sym.Matrix([1,0],[0,4])"
      ],
      "metadata": {
        "colab": {
          "base_uri": "https://localhost:8080/",
          "height": 144
        },
        "id": "cGH5SCE5Yy4w",
        "outputId": "e82febc6-a87c-4c34-aeec-db932917442a"
      },
      "execution_count": null,
      "outputs": [
        {
          "output_type": "error",
          "ename": "NameError",
          "evalue": "name 'sym' is not defined",
          "traceback": [
            "\u001b[0;31m---------------------------------------------------------------------------\u001b[0m",
            "\u001b[0;31mNameError\u001b[0m                                 Traceback (most recent call last)",
            "\u001b[0;32m/tmp/ipython-input-3625137743.py\u001b[0m in \u001b[0;36m<cell line: 0>\u001b[0;34m()\u001b[0m\n\u001b[0;32m----> 1\u001b[0;31m \u001b[0msym\u001b[0m\u001b[0;34m.\u001b[0m\u001b[0mMatrix\u001b[0m\u001b[0;34m(\u001b[0m\u001b[0;34m[\u001b[0m\u001b[0;36m1\u001b[0m\u001b[0;34m,\u001b[0m\u001b[0;36m0\u001b[0m\u001b[0;34m]\u001b[0m\u001b[0;34m,\u001b[0m\u001b[0;34m[\u001b[0m\u001b[0;36m0\u001b[0m\u001b[0;34m,\u001b[0m\u001b[0;36m4\u001b[0m\u001b[0;34m]\u001b[0m\u001b[0;34m)\u001b[0m\u001b[0;34m\u001b[0m\u001b[0;34m\u001b[0m\u001b[0m\n\u001b[0m",
            "\u001b[0;31mNameError\u001b[0m: name 'sym' is not defined"
          ]
        }
      ]
    },
    {
      "cell_type": "code",
      "source": [],
      "metadata": {
        "id": "1XYbTmA5Z5ip"
      },
      "execution_count": null,
      "outputs": []
    }
  ]
}